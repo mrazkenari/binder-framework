{
 "cells": [
  {
   "cell_type": "code",
   "execution_count": 68,
   "id": "b5bed865-75ca-4b07-98ec-55b050968de3",
   "metadata": {},
   "outputs": [],
   "source": [
    "# import sys\n",
    "# !{sys.executable} -m pip install pandas"
   ]
  },
  {
   "cell_type": "code",
   "execution_count": 33,
   "id": "769ae26a-d798-40d3-8478-a4fc67d675d2",
   "metadata": {},
   "outputs": [],
   "source": [
    "import pandas as pd"
   ]
  },
  {
   "cell_type": "code",
   "execution_count": 34,
   "id": "00005a10-fd4a-4114-8b42-9788cd2b65c7",
   "metadata": {},
   "outputs": [],
   "source": [
    "df = pd.read_csv('https://data.cityofnewyork.us/resource/bug8-9f3g.csv')"
   ]
  },
  {
   "cell_type": "code",
   "execution_count": 35,
   "id": "aa9387c6-a9c7-4f7b-8889-af09342d5f75",
   "metadata": {},
   "outputs": [
    {
     "data": {
      "text/html": [
       "<div>\n",
       "<style scoped>\n",
       "    .dataframe tbody tr th:only-of-type {\n",
       "        vertical-align: middle;\n",
       "    }\n",
       "\n",
       "    .dataframe tbody tr th {\n",
       "        vertical-align: top;\n",
       "    }\n",
       "\n",
       "    .dataframe thead th {\n",
       "        text-align: right;\n",
       "    }\n",
       "</style>\n",
       "<table border=\"1\" class=\"dataframe\">\n",
       "  <thead>\n",
       "    <tr style=\"text-align: right;\">\n",
       "      <th></th>\n",
       "      <th>company_name</th>\n",
       "      <th>company_contact</th>\n",
       "      <th>company_email</th>\n",
       "      <th>company_phone</th>\n",
       "      <th>address</th>\n",
       "      <th>city</th>\n",
       "      <th>state</th>\n",
       "      <th>zip</th>\n",
       "      <th>industry</th>\n",
       "      <th>industry_descr</th>\n",
       "      <th>...</th>\n",
       "      <th>savings_from_beginning</th>\n",
       "      <th>borough</th>\n",
       "      <th>latitude</th>\n",
       "      <th>longitude</th>\n",
       "      <th>community_board</th>\n",
       "      <th>council_district</th>\n",
       "      <th>census_tract</th>\n",
       "      <th>bin</th>\n",
       "      <th>bbl</th>\n",
       "      <th>nta</th>\n",
       "    </tr>\n",
       "  </thead>\n",
       "  <tbody>\n",
       "    <tr>\n",
       "      <th>0</th>\n",
       "      <td>1 State Street</td>\n",
       "      <td>David Neiburg</td>\n",
       "      <td>eskoblo@energyspec.com</td>\n",
       "      <td>7186779077</td>\n",
       "      <td>1114 Avenue J</td>\n",
       "      <td>Brooklyn</td>\n",
       "      <td>NY</td>\n",
       "      <td>11230</td>\n",
       "      <td>Commercial</td>\n",
       "      <td>35 story building</td>\n",
       "      <td>...</td>\n",
       "      <td>349.78</td>\n",
       "      <td>Brooklyn</td>\n",
       "      <td>40.624784</td>\n",
       "      <td>-73.964920</td>\n",
       "      <td>314.0</td>\n",
       "      <td>44.0</td>\n",
       "      <td>534.0</td>\n",
       "      <td>3179818.0</td>\n",
       "      <td>3.067130e+09</td>\n",
       "      <td>Midwood</td>\n",
       "    </tr>\n",
       "    <tr>\n",
       "      <th>1</th>\n",
       "      <td>100 Church LLC</td>\n",
       "      <td>Edward A. Carroll</td>\n",
       "      <td>NaN</td>\n",
       "      <td>2125663000</td>\n",
       "      <td>100 Church Street</td>\n",
       "      <td>NY</td>\n",
       "      <td>NY</td>\n",
       "      <td>10007</td>\n",
       "      <td>Commercial</td>\n",
       "      <td>21 Floors</td>\n",
       "      <td>...</td>\n",
       "      <td>4423698.05</td>\n",
       "      <td>New York</td>\n",
       "      <td>40.712968</td>\n",
       "      <td>-74.009490</td>\n",
       "      <td>101.0</td>\n",
       "      <td>1.0</td>\n",
       "      <td>21.0</td>\n",
       "      <td>1001409.0</td>\n",
       "      <td>1.001250e+09</td>\n",
       "      <td>SoHo-TriBeCa-Civic Center-Little Italy</td>\n",
       "    </tr>\n",
       "    <tr>\n",
       "      <th>2</th>\n",
       "      <td>100 Wall Investments</td>\n",
       "      <td>Jerry Branam</td>\n",
       "      <td>NaN</td>\n",
       "      <td>2122487160</td>\n",
       "      <td>96 Wall Street</td>\n",
       "      <td>New York</td>\n",
       "      <td>NY</td>\n",
       "      <td>10005</td>\n",
       "      <td>Landlord</td>\n",
       "      <td>NaN</td>\n",
       "      <td>...</td>\n",
       "      <td>1814542.62</td>\n",
       "      <td>New York</td>\n",
       "      <td>40.705052</td>\n",
       "      <td>-74.007199</td>\n",
       "      <td>101.0</td>\n",
       "      <td>1.0</td>\n",
       "      <td>7.0</td>\n",
       "      <td>1000875.0</td>\n",
       "      <td>1.000380e+09</td>\n",
       "      <td>Battery Park City-Lower Manhattan</td>\n",
       "    </tr>\n",
       "    <tr>\n",
       "      <th>3</th>\n",
       "      <td>1-10 Bush Terminal Owner LP</td>\n",
       "      <td>Andrew Kimball</td>\n",
       "      <td>akimball@industrycity.com</td>\n",
       "      <td>3474178429</td>\n",
       "      <td>220 36th St, Suite 2A</td>\n",
       "      <td>Brooklyn</td>\n",
       "      <td>NY</td>\n",
       "      <td>11232</td>\n",
       "      <td>Landlord</td>\n",
       "      <td>Special Eligible Premises for eligible businesses</td>\n",
       "      <td>...</td>\n",
       "      <td>6755.31</td>\n",
       "      <td>Brooklyn</td>\n",
       "      <td>40.656061</td>\n",
       "      <td>-74.007334</td>\n",
       "      <td>307.0</td>\n",
       "      <td>38.0</td>\n",
       "      <td>2.0</td>\n",
       "      <td>3398687.0</td>\n",
       "      <td>3.006950e+09</td>\n",
       "      <td>Sunset Park West</td>\n",
       "    </tr>\n",
       "    <tr>\n",
       "      <th>4</th>\n",
       "      <td>120 Broadway Acquisitions JV, LLC (Ldmk)</td>\n",
       "      <td>Carl Letich</td>\n",
       "      <td>clettich@silvprop.com</td>\n",
       "      <td>2124064020</td>\n",
       "      <td>120 Broadway</td>\n",
       "      <td>New York</td>\n",
       "      <td>NY</td>\n",
       "      <td>10271</td>\n",
       "      <td>Commercial</td>\n",
       "      <td>NaN</td>\n",
       "      <td>...</td>\n",
       "      <td>3293055.08</td>\n",
       "      <td>New York</td>\n",
       "      <td>40.708546</td>\n",
       "      <td>-74.011041</td>\n",
       "      <td>101.0</td>\n",
       "      <td>1.0</td>\n",
       "      <td>7.0</td>\n",
       "      <td>1001026.0</td>\n",
       "      <td>1.000478e+09</td>\n",
       "      <td>Battery Park City-Lower Manhattan</td>\n",
       "    </tr>\n",
       "  </tbody>\n",
       "</table>\n",
       "<p>5 rows × 26 columns</p>\n",
       "</div>"
      ],
      "text/plain": [
       "                               company_name    company_contact  \\\n",
       "0                            1 State Street      David Neiburg   \n",
       "1                            100 Church LLC  Edward A. Carroll   \n",
       "2                      100 Wall Investments       Jerry Branam   \n",
       "3               1-10 Bush Terminal Owner LP     Andrew Kimball   \n",
       "4  120 Broadway Acquisitions JV, LLC (Ldmk)        Carl Letich   \n",
       "\n",
       "               company_email company_phone                address      city  \\\n",
       "0     eskoblo@energyspec.com    7186779077          1114 Avenue J  Brooklyn   \n",
       "1                        NaN    2125663000      100 Church Street        NY   \n",
       "2                        NaN    2122487160         96 Wall Street  New York   \n",
       "3  akimball@industrycity.com    3474178429  220 36th St, Suite 2A  Brooklyn   \n",
       "4      clettich@silvprop.com    2124064020           120 Broadway  New York   \n",
       "\n",
       "  state    zip    industry                                     industry_descr  \\\n",
       "0    NY  11230  Commercial                                  35 story building   \n",
       "1    NY  10007  Commercial                                          21 Floors   \n",
       "2    NY  10005    Landlord                                                NaN   \n",
       "3    NY  11232    Landlord  Special Eligible Premises for eligible businesses   \n",
       "4    NY  10271  Commercial                                                NaN   \n",
       "\n",
       "   ... savings_from_beginning   borough   latitude  longitude community_board  \\\n",
       "0  ...                 349.78  Brooklyn  40.624784 -73.964920           314.0   \n",
       "1  ...             4423698.05  New York  40.712968 -74.009490           101.0   \n",
       "2  ...             1814542.62  New York  40.705052 -74.007199           101.0   \n",
       "3  ...                6755.31  Brooklyn  40.656061 -74.007334           307.0   \n",
       "4  ...             3293055.08  New York  40.708546 -74.011041           101.0   \n",
       "\n",
       "   council_district  census_tract        bin           bbl  \\\n",
       "0              44.0         534.0  3179818.0  3.067130e+09   \n",
       "1               1.0          21.0  1001409.0  1.001250e+09   \n",
       "2               1.0           7.0  1000875.0  1.000380e+09   \n",
       "3              38.0           2.0  3398687.0  3.006950e+09   \n",
       "4               1.0           7.0  1001026.0  1.000478e+09   \n",
       "\n",
       "                                      nta  \n",
       "0                                 Midwood  \n",
       "1  SoHo-TriBeCa-Civic Center-Little Italy  \n",
       "2       Battery Park City-Lower Manhattan  \n",
       "3                        Sunset Park West  \n",
       "4       Battery Park City-Lower Manhattan  \n",
       "\n",
       "[5 rows x 26 columns]"
      ]
     },
     "execution_count": 35,
     "metadata": {},
     "output_type": "execute_result"
    }
   ],
   "source": [
    "df.head()"
   ]
  },
  {
   "cell_type": "markdown",
   "id": "b82d8486-6a67-49cd-a35c-f3c1d4841636",
   "metadata": {},
   "source": [
    "How many different companies are represented in the data set?"
   ]
  },
  {
   "cell_type": "code",
   "execution_count": 36,
   "id": "7c6908be-77a9-4cac-a337-02238d483074",
   "metadata": {},
   "outputs": [
    {
     "data": {
      "text/plain": [
       "439"
      ]
     },
     "execution_count": 36,
     "metadata": {},
     "output_type": "execute_result"
    }
   ],
   "source": [
    "df.company_name.nunique()"
   ]
  },
  {
   "cell_type": "markdown",
   "id": "da0e8722-6603-4582-b35d-b2170d3ba482",
   "metadata": {},
   "source": [
    "What is the total number of jobs created for businesses in Queens?"
   ]
  },
  {
   "cell_type": "code",
   "execution_count": 37,
   "id": "a18fa569-1f0b-4862-9d99-8e177ba99b0b",
   "metadata": {},
   "outputs": [
    {
     "data": {
      "text/plain": [
       "149.0"
      ]
     },
     "execution_count": 37,
     "metadata": {},
     "output_type": "execute_result"
    }
   ],
   "source": [
    "df.job_created.sum()"
   ]
  },
  {
   "cell_type": "markdown",
   "id": "2b028ae4-0233-4264-98ff-1aa3833ed5b2",
   "metadata": {},
   "source": [
    "How many different unique email domains names are there in the data set?"
   ]
  },
  {
   "cell_type": "code",
   "execution_count": 38,
   "id": "4f765361-5090-4930-b7e9-c864cac6ec1b",
   "metadata": {},
   "outputs": [],
   "source": [
    "import re"
   ]
  },
  {
   "cell_type": "code",
   "execution_count": 39,
   "id": "1708666e-0a74-4216-a3ca-f25faf461647",
   "metadata": {},
   "outputs": [],
   "source": [
    "regex = re.compile(r\"^.+@(.+)\\.[\\w]+$\")\n",
    "domains = df.company_email.dropna().apply(regex.findall)"
   ]
  },
  {
   "cell_type": "code",
   "execution_count": 40,
   "id": "7ba6a1f8",
   "metadata": {},
   "outputs": [
    {
     "data": {
      "text/plain": [
       "355"
      ]
     },
     "execution_count": 40,
     "metadata": {},
     "output_type": "execute_result"
    }
   ],
   "source": [
    "len(set([d[0] for d in domains if len(d)>0]))"
   ]
  },
  {
   "cell_type": "markdown",
   "id": "d8145914-c34c-4e6c-91fa-68ecef143888",
   "metadata": {},
   "source": [
    "Considering only NTAs with at least 5 listed businesses, what is the average total savings and the total jobs created for each NTA?"
   ]
  },
  {
   "cell_type": "code",
   "execution_count": 41,
   "id": "8aa1403d",
   "metadata": {},
   "outputs": [
    {
     "data": {
      "text/plain": [
       "company_name                0\n",
       "company_contact             0\n",
       "company_email              17\n",
       "company_phone               0\n",
       "address                     0\n",
       "city                        0\n",
       "state                       0\n",
       "zip                         0\n",
       "industry                    0\n",
       "industry_descr             16\n",
       "company_type                0\n",
       "current_fulltime            4\n",
       "job_created               439\n",
       "job_retain                436\n",
       "effective_date              0\n",
       "total_savings               0\n",
       "savings_from_beginning      0\n",
       "borough                     0\n",
       "latitude                   41\n",
       "longitude                  41\n",
       "community_board            41\n",
       "council_district           41\n",
       "census_tract               41\n",
       "bin                        49\n",
       "bbl                        49\n",
       "nta                        41\n",
       "dtype: int64"
      ]
     },
     "execution_count": 41,
     "metadata": {},
     "output_type": "execute_result"
    }
   ],
   "source": [
    "df.isna().sum()"
   ]
  },
  {
   "cell_type": "code",
   "execution_count": 42,
   "id": "838bbd46-0ede-4fd8-a26b-a4eeac7e19c1",
   "metadata": {},
   "outputs": [],
   "source": [
    "NTAs = df[['nta', 'company_name']].groupby(['nta']).count()"
   ]
  },
  {
   "cell_type": "code",
   "execution_count": 45,
   "id": "7c7acd7f",
   "metadata": {},
   "outputs": [],
   "source": [
    "results = df[df.nta.isin(NTAs[(NTAs.company_name>=5)].index)][['nta', 'total_savings','job_created']].groupby(['nta']).mean()\n",
    "results_1 = df[df.nta.isin(NTAs[(NTAs.company_name>=5)].index)][['nta', 'total_savings','job_created']].dropna().groupby(['nta']).mean()"
   ]
  },
  {
   "cell_type": "markdown",
   "id": "dd3728b0-d26f-4bda-8eb6-9fc79c42e673",
   "metadata": {},
   "source": [
    "Save your result for the previous question as a CSV file."
   ]
  },
  {
   "cell_type": "code",
   "execution_count": 46,
   "id": "1d2ed1bb",
   "metadata": {},
   "outputs": [],
   "source": [
    "results.to_csv('out.csv')"
   ]
  },
  {
   "cell_type": "code",
   "execution_count": 47,
   "id": "9519ca5c",
   "metadata": {},
   "outputs": [
    {
     "name": "stdout",
     "output_type": "stream",
     "text": [
      "1.3.4\n",
      "2.2.1\n"
     ]
    }
   ],
   "source": [
    "print(pd.__version__)\n",
    "print(re.__version__)"
   ]
  },
  {
   "cell_type": "markdown",
   "id": "2894dcfc",
   "metadata": {},
   "source": [
    "scatter plot of jobs created versus average savings. Use both a standard and a logarithmic scale for the average savings."
   ]
  },
  {
   "cell_type": "code",
   "execution_count": 48,
   "id": "615be991",
   "metadata": {},
   "outputs": [],
   "source": [
    "import matplotlib.pyplot as plt\n",
    "import numpy as np\n"
   ]
  },
  {
   "cell_type": "code",
   "execution_count": 49,
   "id": "104d16a6",
   "metadata": {},
   "outputs": [
    {
     "data": {
      "text/html": [
       "<div>\n",
       "<style scoped>\n",
       "    .dataframe tbody tr th:only-of-type {\n",
       "        vertical-align: middle;\n",
       "    }\n",
       "\n",
       "    .dataframe tbody tr th {\n",
       "        vertical-align: top;\n",
       "    }\n",
       "\n",
       "    .dataframe thead th {\n",
       "        text-align: right;\n",
       "    }\n",
       "</style>\n",
       "<table border=\"1\" class=\"dataframe\">\n",
       "  <thead>\n",
       "    <tr style=\"text-align: right;\">\n",
       "      <th></th>\n",
       "      <th>total_savings</th>\n",
       "      <th>job_created</th>\n",
       "    </tr>\n",
       "    <tr>\n",
       "      <th>nta</th>\n",
       "      <th></th>\n",
       "      <th></th>\n",
       "    </tr>\n",
       "  </thead>\n",
       "  <tbody>\n",
       "    <tr>\n",
       "      <th>Bushwick South</th>\n",
       "      <td>35384.760000</td>\n",
       "      <td>10.000000</td>\n",
       "    </tr>\n",
       "    <tr>\n",
       "      <th>College Point</th>\n",
       "      <td>54127.140000</td>\n",
       "      <td>2.000000</td>\n",
       "    </tr>\n",
       "    <tr>\n",
       "      <th>East New York</th>\n",
       "      <td>10646.470000</td>\n",
       "      <td>15.000000</td>\n",
       "    </tr>\n",
       "    <tr>\n",
       "      <th>Hunts Point</th>\n",
       "      <td>181579.240000</td>\n",
       "      <td>12.000000</td>\n",
       "    </tr>\n",
       "    <tr>\n",
       "      <th>Maspeth</th>\n",
       "      <td>52.330000</td>\n",
       "      <td>10.000000</td>\n",
       "    </tr>\n",
       "    <tr>\n",
       "      <th>Mott Haven-Port Morris</th>\n",
       "      <td>1026.103333</td>\n",
       "      <td>3.333333</td>\n",
       "    </tr>\n",
       "    <tr>\n",
       "      <th>Steinway</th>\n",
       "      <td>2056.800000</td>\n",
       "      <td>20.000000</td>\n",
       "    </tr>\n",
       "  </tbody>\n",
       "</table>\n",
       "</div>"
      ],
      "text/plain": [
       "                        total_savings  job_created\n",
       "nta                                               \n",
       "Bushwick South           35384.760000    10.000000\n",
       "College Point            54127.140000     2.000000\n",
       "East New York            10646.470000    15.000000\n",
       "Hunts Point             181579.240000    12.000000\n",
       "Maspeth                     52.330000    10.000000\n",
       "Mott Haven-Port Morris    1026.103333     3.333333\n",
       "Steinway                  2056.800000    20.000000"
      ]
     },
     "execution_count": 49,
     "metadata": {},
     "output_type": "execute_result"
    }
   ],
   "source": [
    "results_1 #droped null values"
   ]
  },
  {
   "cell_type": "code",
   "execution_count": 55,
   "id": "0cac243f",
   "metadata": {},
   "outputs": [
    {
     "data": {
      "image/png": "[encoded data removed]",
      "text/plain": [
       "<Figure size 432x288 with 1 Axes>"
      ]
     },
     "metadata": {
      "needs_background": "light"
     },
     "output_type": "display_data"
    }
   ],
   "source": [
    "x = results.job_created\n",
    "y = results.total_savings\n",
    "plt.scatter(x, y)\n",
    "plt.show()\n",
    "\n"
   ]
  },
  {
   "cell_type": "code",
   "execution_count": 56,
   "metadata": {},
   "outputs": [
    {
     "data": {
      "image/png": "[encoded data removed]",
      "text/plain": [
       "<Figure size 432x288 with 1 Axes>"
      ]
     },
     "metadata": {
      "needs_background": "light"
     },
     "output_type": "display_data"
    }
   ],
   "source": [
    "x_log = np.log(results.job_created, dtype='float64')\n",
    "y_log = np.log(results.total_savings, dtype='float64')\n",
    "plt.scatter(x_log, y_log)\n",
    "plt.show()"
   ]
  },
  {
   "cell_type": "markdown",
   "id": "9ed574e3",
   "metadata": {},
   "source": [
    "\n",
    "\n",
    "histogram of the log of the average total savings.\n",
    "\n"
   ]
  },
  {
   "cell_type": "code",
   "execution_count": 57,
   "id": "62fc4395",
   "metadata": {},
   "outputs": [
    {
     "data": {
      "image/png": "[encoded data removed]",
      "text/plain": [
       "<Figure size 432x288 with 1 Axes>"
      ]
     },
     "metadata": {
      "needs_background": "light"
     },
     "output_type": "display_data"
    }
   ],
   "source": [
    "plt.hist(y_log)\n",
    "plt.show()"
   ]
  },
  {
   "cell_type": "markdown",
   "id": "ba3ac681",
   "metadata": {},
   "source": [
    "line plot of the total jobs created for each month."
   ]
  },
  {
   "cell_type": "code",
   "execution_count": 63,
   "id": "1edbc1c8",
   "metadata": {},
   "outputs": [],
   "source": [
    "jobs = df[['effective_date','job_created']].groupby(['effective_date']).sum()"
   ]
  },
  {
   "cell_type": "code",
   "execution_count": 64,
   "id": "268ce858",
   "metadata": {},
   "outputs": [
    {
     "data": {
      "text/html": [
       "<div>\n",
       "<style scoped>\n",
       "    .dataframe tbody tr th:only-of-type {\n",
       "        vertical-align: middle;\n",
       "    }\n",
       "\n",
       "    .dataframe tbody tr th {\n",
       "        vertical-align: top;\n",
       "    }\n",
       "\n",
       "    .dataframe thead th {\n",
       "        text-align: right;\n",
       "    }\n",
       "</style>\n",
       "<table border=\"1\" class=\"dataframe\">\n",
       "  <thead>\n",
       "    <tr style=\"text-align: right;\">\n",
       "      <th></th>\n",
       "      <th>job_created</th>\n",
       "    </tr>\n",
       "    <tr>\n",
       "      <th>effective_date</th>\n",
       "      <th></th>\n",
       "    </tr>\n",
       "  </thead>\n",
       "  <tbody>\n",
       "    <tr>\n",
       "      <th>1993-02-05T00:00:00.000</th>\n",
       "      <td>15.0</td>\n",
       "    </tr>\n",
       "    <tr>\n",
       "      <th>2004-03-05T00:00:00.000</th>\n",
       "      <td>10.0</td>\n",
       "    </tr>\n",
       "    <tr>\n",
       "      <th>2005-02-03T00:00:00.000</th>\n",
       "      <td>12.0</td>\n",
       "    </tr>\n",
       "    <tr>\n",
       "      <th>2005-03-04T00:00:00.000</th>\n",
       "      <td>0.0</td>\n",
       "    </tr>\n",
       "    <tr>\n",
       "      <th>2005-06-30T00:00:00.000</th>\n",
       "      <td>0.0</td>\n",
       "    </tr>\n",
       "  </tbody>\n",
       "</table>\n",
       "</div>"
      ],
      "text/plain": [
       "                         job_created\n",
       "effective_date                      \n",
       "1993-02-05T00:00:00.000         15.0\n",
       "2004-03-05T00:00:00.000         10.0\n",
       "2005-02-03T00:00:00.000         12.0\n",
       "2005-03-04T00:00:00.000          0.0\n",
       "2005-06-30T00:00:00.000          0.0"
      ]
     },
     "execution_count": 64,
     "metadata": {},
     "output_type": "execute_result"
    }
   ],
   "source": [
    "jobs.head()"
   ]
  },
  {
   "cell_type": "code",
   "execution_count": 65,
   "id": "0c16850a",
   "metadata": {},
   "outputs": [
    {
     "data": {
      "text/plain": [
       "[<matplotlib.lines.Line2D at 0x22ef9bc85b0>]"
      ]
     },
     "execution_count": 65,
     "metadata": {},
     "output_type": "execute_result"
    },
    {
     "data": {
      "image/png": "[encoded data removed]",
      "text/plain": [
       "<Figure size 432x288 with 1 Axes>"
      ]
     },
     "metadata": {
      "needs_background": "light"
     },
     "output_type": "display_data"
    }
   ],
   "source": [
    "plt.plot(jobs)"
   ]
  },
  {
   "cell_type": "code",
   "execution_count": null,
   "id": "4ea9a56a",
   "metadata": {},
   "outputs": [],
   "source": []
  }
 ],
 "metadata": {
  "kernelspec": {
   "display_name": "Python 3 (ipykernel)",
   "language": "python",
   "name": "python3"
  },
  "language_info": {
   "codemirror_mode": {
    "name": "ipython",
    "version": 3
   },
   "file_extension": ".py",
   "mimetype": "text/x-python",
   "name": "python",
   "nbconvert_exporter": "python",
   "pygments_lexer": "ipython3",
   "version": "3.9.7"
  }
 },
 "nbformat": 4,
 "nbformat_minor": 5
}
